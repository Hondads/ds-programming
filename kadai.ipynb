{
 "cells": [
  {
   "cell_type": "code",
   "execution_count": null,
   "metadata": {},
   "outputs": [],
   "source": [
    "import sqlite3\n",
    "!pwd"
   ]
  },
  {
   "cell_type": "code",
   "execution_count": null,
   "metadata": {},
   "outputs": [],
   "source": [
    "path=\"/Users/gian/dspro\"\n",
    "db_name=\"final.sqlite\"\n",
    "con=sqlite3.connect(path+db_name)\n",
    "con.close()"
   ]
  },
  {
   "cell_type": "code",
   "execution_count": null,
   "metadata": {},
   "outputs": [],
   "source": [
    "#connect to\n",
    "con = sqlite3.connect(path + db_name)\n",
    "#get object\n",
    "cur = con.cursor()\n",
    "#make table\n",
    "create_table = 'CREATE TABLE tempreture(date int, tempreture int);'\n",
    "#execute\n",
    "cur.execute(create_table)\n",
    "#commit prosessing\n",
    "con.commit()\n",
    "#db close\n",
    "con.close()"
   ]
  },
  {
   "cell_type": "code",
   "execution_count": null,
   "metadata": {},
   "outputs": [],
   "source": [
    "#connect to\n",
    "con = sqlite3.connect(path + db_name)\n",
    "#get object\n",
    "cur = con.cursor()\n",
    "#make table\n",
    "create_table = 'CREATE TABLE room(date int, room int);'\n",
    "#execute\n",
    "cur.execute(create_table)\n",
    "#commit prosessing\n",
    "con.commit()\n",
    "#db close\n",
    "con.close()"
   ]
  },
  {
   "cell_type": "code",
   "execution_count": null,
   "metadata": {},
   "outputs": [],
   "source": [
    "#connect to\n",
    "con = sqlite3.connect(path + db_name)\n",
    "\n",
    "#get object\n",
    "cur = con.cursor()\n",
    "\n",
    "#insert into \n",
    "insert_many = 'INSERT INTO tempreture VALUES (?, ?);'\n",
    "\n",
    "tempreture_list=[(1,'7.6'), (2,'7.2'), (3,'8.3'),(4,'8.3'), (5, '7.1'), (6,'10.6'), (7,'12.9'), (8,'11.3'), (9,'11.2'), (10,'12.0'), (11,'12.6'), (12,'11.7'), (13,'10.3'), (14,'9.7'), (15,'11.8'), (16,'18.4'), (17,'11.0'), (18,'6.6'), (19,'6.3'), (20,'7.7'), (21,'7.8'), (22,'4.9'), (23,'4.3'), (24,'4.0'), (25,'5.3'), (26,'6.2'), (27,'7.0'), (28,'6.0'), (29,'6.8'), (30,'8.4'), (31,'8.8')\n",
    "\n",
    "]\n",
    "\n",
    "#execute\n",
    "cur.executemany(insert_many, tempreture_list)\n",
    "\n",
    "#commit prosessing\n",
    "con.commit()\n",
    "\n",
    "#db close\n",
    "con.close()"
   ]
  },
  {
   "cell_type": "code",
   "execution_count": null,
   "metadata": {},
   "outputs": [],
   "source": [
    "#connect to\n",
    "con = sqlite3.connect(path + db_name)\n",
    "\n",
    "#get object\n",
    "cur = con.cursor()\n",
    "\n",
    "import csv\n",
    "from datetime import datetime\n",
    "with open('room_data.csv', 'r', encoding='utf-8')as csv_file:\n",
    "    dspro=csv.reader(csv_file)\n",
    "#skip header\n",
    "    next(dspro, None)\n",
    "\n",
    "    for r in dspro:\n",
    "        date_str = r[0]\n",
    "        room_data = r[1]\n",
    "        cur.execute('INSERT INTO room (date , room) VALUES (?, ?);',\n",
    "                           (date_str, room_data))\n",
    "\n",
    "\n",
    "#commit prosessing\n",
    "con.commit()\n",
    "\n",
    "#db close\n",
    "con.close()"
   ]
  },
  {
   "cell_type": "code",
   "execution_count": null,
   "metadata": {},
   "outputs": [],
   "source": [
    "#connect to\n",
    "con = sqlite3.connect(path + db_name)\n",
    "\n",
    "#get object\n",
    "cur = con.cursor()\n",
    "\n",
    "#select from\n",
    "## * の部分は列の名前をカンマ区切りを指定できる\n",
    "select = 'SELECT * FROM tempreture;'\n",
    "\n",
    "#execute\n",
    "cur.execute(select)\n",
    "\n",
    "#extract from db\n",
    "for k in cur:\n",
    "    print(k)\n",
    "\n",
    "#commit prosessing\n",
    "con.commit()\n",
    "\n",
    "#db close\n",
    "con.close()"
   ]
  },
  {
   "cell_type": "code",
   "execution_count": null,
   "metadata": {},
   "outputs": [],
   "source": [
    "pip install beautifulsoup4"
   ]
  },
  {
   "cell_type": "code",
   "execution_count": null,
   "metadata": {},
   "outputs": [],
   "source": [
    "tempreture_list=[]\n",
    "import requests\n",
    "import csv\n",
    "re=requests.get(\"https://www.data.jma.go.jp/stats/etrn/view/daily_a1.php?prec_no=45&block_no=1236&year=2023&month=12&day=&view=p1\")\n",
    "encoding=re.encoding\n",
    "if encoding.lower() == \"iso-8859-1\":\n",
    "    re.encoding=\"utf-8\"\n",
    "\n",
    "from bs4 import BeautifulSoup\n",
    "soup=BeautifulSoup(re.text,'html.parser')\n",
    "\n",
    "sk=soup.find('table', id='tablefix1', class_='data2_s')\n",
    "index=4\n",
    "for row in sk .find_all('tr')[1:]:\n",
    "    columns=row.find_all('td')\n",
    "    if columns:\n",
    "        sk_data=columns[index].text\n",
    "        print(sk_data)\n",
    "        tempreture_list.append(sk_data)\n",
    "\n",
    "print(tempreture_list)"
   ]
  },
  {
   "cell_type": "code",
   "execution_count": null,
   "metadata": {},
   "outputs": [],
   "source": [
    "import csv\n",
    "with open ('room_data.csv')as csvfile:\n",
    "    ro = csv.reader(csvfile)\n",
    "    for i in ro:\n",
    "        print(i)"
   ]
  }
 ],
 "metadata": {
  "language_info": {
   "name": "python"
  }
 },
 "nbformat": 4,
 "nbformat_minor": 2
}
