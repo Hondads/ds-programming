{
 "cells": [
  {
   "cell_type": "code",
   "execution_count": null,
   "metadata": {},
   "outputs": [],
   "source": [
    "import sqlite3\n",
    "!pwd"
   ]
  },
  {
   "cell_type": "code",
   "execution_count": null,
   "metadata": {},
   "outputs": [],
   "source": [
    "path=\"/Users/gian/dspro\"\n",
    "db_name=\"final.sqlite\"\n",
    "con=sqlite3.connect(path+db_name)\n",
    "con.close()"
   ]
  },
  {
   "cell_type": "code",
   "execution_count": null,
   "metadata": {},
   "outputs": [],
   "source": [
    "#connect to\n",
    "con = sqlite3.connect(path + db_name)\n",
    "#get object\n",
    "cur = con.cursor()\n",
    "#make table\n",
    "create_table = 'CREATE TABLE tempreture(date int, tempreture int);'\n",
    "#execute\n",
    "cur.execute(create_table)\n",
    "#commit prosessing\n",
    "con.commit()\n",
    "#db close\n",
    "con.close()"
   ]
  },
  {
   "cell_type": "code",
   "execution_count": null,
   "metadata": {},
   "outputs": [],
   "source": [
    "#connect to\n",
    "con = sqlite3.connect(path + db_name)\n",
    "#get object\n",
    "cur = con.cursor()\n",
    "#make table\n",
    "create_table = 'CREATE TABLE room(date int, room int);'\n",
    "#execute\n",
    "cur.execute(create_table)\n",
    "#commit prosessing\n",
    "con.commit()\n",
    "#db close\n",
    "con.close()"
   ]
  },
  {
   "cell_type": "code",
   "execution_count": null,
   "metadata": {},
   "outputs": [],
   "source": []
  },
  {
   "cell_type": "code",
   "execution_count": null,
   "metadata": {},
   "outputs": [],
   "source": []
  },
  {
   "cell_type": "code",
   "execution_count": null,
   "metadata": {},
   "outputs": [],
   "source": []
  },
  {
   "cell_type": "code",
   "execution_count": null,
   "metadata": {},
   "outputs": [],
   "source": []
  }
 ],
 "metadata": {
  "language_info": {
   "name": "python"
  }
 },
 "nbformat": 4,
 "nbformat_minor": 2
}
